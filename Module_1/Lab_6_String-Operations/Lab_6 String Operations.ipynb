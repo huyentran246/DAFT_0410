{
 "cells": [
  {
   "cell_type": "code",
   "execution_count": 2,
   "id": "9c040f74",
   "metadata": {},
   "outputs": [
    {
     "data": {
      "text/plain": [
       "'Durante un tiempo no estuvo segura de si su marido era su marido.'"
      ]
     },
     "execution_count": 2,
     "metadata": {},
     "output_type": "execute_result"
    }
   ],
   "source": [
    "# Challenge 1 - Combining Strings\n",
    "\n",
    "str_list = ['Durante', 'un', 'tiempo', 'no', 'estuvo', 'segura', 'de', 'si', 'su', 'marido', 'era', 'su', 'marido']\n",
    "' '.join(str_list) + '.'"
   ]
  },
  {
   "cell_type": "code",
   "execution_count": 3,
   "id": "b8b2a422",
   "metadata": {},
   "outputs": [
    {
     "name": "stdout",
     "output_type": "stream",
     "text": [
      "Grocery list: bananas, bread, brownie mix, broccoli.\n"
     ]
    }
   ],
   "source": [
    "#use the list of strings to create a grocery list. Start the list with the string Grocery list: \n",
    "#and include a comma and a space between each item except for the last one. Include a period at the end. \n",
    "#Only include foods in the list that start with the letter 'b' and ensure all foods are lower case.\n",
    "\n",
    "food_list = ['Bananas', 'Chocolate', 'bread', 'diapers', 'Ice Cream', 'Brownie Mix', 'broccoli']\n",
    "\n",
    "grocery_list = [food.lower() for food in food_list if food.lower().startswith('b')]\n",
    "\n",
    "print(\"Grocery list: \" + \", \".join(grocery_list) + \".\")"
   ]
  },
  {
   "cell_type": "code",
   "execution_count": 4,
   "id": "f09ccd3d",
   "metadata": {},
   "outputs": [
    {
     "name": "stdout",
     "output_type": "stream",
     "text": [
      "The area of the circle with radius: 4.5 is: 63.61725123519331\n"
     ]
    }
   ],
   "source": [
    "#write a function that computes the area of a circle using its radius.\n",
    "#Compute the area of the circle and insert the radius and the area between the two strings. \n",
    "#Make sure to include spaces between the variable and the strings.\n",
    "\n",
    "import math\n",
    "\n",
    "string1 = \"The area of the circle with radius:\"\n",
    "string2  = \"is:\"\n",
    "radius = 4.5\n",
    "\n",
    "def area(radius, pi = math.pi):\n",
    "    \"\"\"\n",
    "    This function takes a radius and returns the area of a circle. \n",
    "    We also pass a default value for pi.\n",
    "    \n",
    "    Input: Float (and default value for pi)\n",
    "    Output: Float\n",
    "    \n",
    "    Sample input: 5.0\n",
    "    Sample Output: 78.53981633\n",
    "    \"\"\"\n",
    "    return math.pi*radius**2\n",
    "print(f\"{string1} {radius} {string2} {area(radius)}\")"
   ]
  },
  {
   "cell_type": "code",
   "execution_count": 5,
   "id": "c2d83c91",
   "metadata": {
    "scrolled": true
   },
   "outputs": [
    {
     "data": {
      "text/plain": [
       "['Some',\n",
       " 'say',\n",
       " 'the',\n",
       " 'world',\n",
       " 'will',\n",
       " 'end',\n",
       " 'in',\n",
       " 'fire,',\n",
       " 'Some',\n",
       " 'say',\n",
       " 'in',\n",
       " 'ice.',\n",
       " 'From',\n",
       " 'what',\n",
       " 'I’ve',\n",
       " 'tasted',\n",
       " 'of',\n",
       " 'desire',\n",
       " 'I',\n",
       " 'hold',\n",
       " 'with',\n",
       " 'those',\n",
       " 'who',\n",
       " 'favor',\n",
       " 'fire.',\n",
       " 'But',\n",
       " 'if',\n",
       " 'it',\n",
       " 'had',\n",
       " 'to',\n",
       " 'perish',\n",
       " 'twice,',\n",
       " 'I',\n",
       " 'think',\n",
       " 'I',\n",
       " 'know',\n",
       " 'enough',\n",
       " 'of',\n",
       " 'hate',\n",
       " 'To',\n",
       " 'say',\n",
       " 'that',\n",
       " 'for',\n",
       " 'destruction',\n",
       " 'ice',\n",
       " 'Is',\n",
       " 'also',\n",
       " 'great',\n",
       " 'And',\n",
       " 'would',\n",
       " 'suffice.']"
      ]
     },
     "execution_count": 5,
     "metadata": {},
     "output_type": "execute_result"
    }
   ],
   "source": [
    "# Challenge 2 - Splitting Strings\n",
    "#split the string into a list of strings using the space delimiter. \n",
    "#Count the frequency of each word in the string in a dictionary. \n",
    "#Strip the periods, line breaks and commas from the text. Make sure to remove empty strings from your dictionary.\n",
    "\n",
    "poem = \"\"\"Some say the world will end in fire,\n",
    "Some say in ice.\n",
    "From what I’ve tasted of desire\n",
    "I hold with those who favor fire.\n",
    "But if it had to perish twice,\n",
    "I think I know enough of hate\n",
    "To say that for destruction ice\n",
    "Is also great\n",
    "And would suffice.\"\"\"\n",
    "\n",
    "n = poem.split()\n",
    "n"
   ]
  },
  {
   "cell_type": "code",
   "execution_count": 6,
   "id": "6bca2bb4",
   "metadata": {
    "scrolled": true
   },
   "outputs": [
    {
     "data": {
      "text/plain": [
       "Counter({'Some': 2,\n",
       "         'say': 3,\n",
       "         'the': 1,\n",
       "         'world': 1,\n",
       "         'will': 1,\n",
       "         'end': 1,\n",
       "         'in': 2,\n",
       "         'fire,': 1,\n",
       "         'ice.': 1,\n",
       "         'From': 1,\n",
       "         'what': 1,\n",
       "         'I’ve': 1,\n",
       "         'tasted': 1,\n",
       "         'of': 2,\n",
       "         'desire': 1,\n",
       "         'I': 3,\n",
       "         'hold': 1,\n",
       "         'with': 1,\n",
       "         'those': 1,\n",
       "         'who': 1,\n",
       "         'favor': 1,\n",
       "         'fire.': 1,\n",
       "         'But': 1,\n",
       "         'if': 1,\n",
       "         'it': 1,\n",
       "         'had': 1,\n",
       "         'to': 1,\n",
       "         'perish': 1,\n",
       "         'twice,': 1,\n",
       "         'think': 1,\n",
       "         'know': 1,\n",
       "         'enough': 1,\n",
       "         'hate': 1,\n",
       "         'To': 1,\n",
       "         'that': 1,\n",
       "         'for': 1,\n",
       "         'destruction': 1,\n",
       "         'ice': 1,\n",
       "         'Is': 1,\n",
       "         'also': 1,\n",
       "         'great': 1,\n",
       "         'And': 1,\n",
       "         'would': 1,\n",
       "         'suffice.': 1})"
      ]
     },
     "execution_count": 6,
     "metadata": {},
     "output_type": "execute_result"
    }
   ],
   "source": [
    "from collections import Counter\n",
    "dt = Counter(n)\n",
    "dt"
   ]
  },
  {
   "cell_type": "code",
   "execution_count": 10,
   "id": "bff691e3",
   "metadata": {
    "scrolled": true
   },
   "outputs": [
    {
     "name": "stdout",
     "output_type": "stream",
     "text": [
      "Some say the world will end in fireSome say in iceFrom what I’ve tasted of desireI hold with those who favor fireBut if it had to perish twiceI think I know enough of hateTo say that for destruction iceIs also greatAnd would suffice\n"
     ]
    }
   ],
   "source": [
    "strip = '''.,\\n'''\n",
    "\n",
    "poem1 = \"\"\n",
    "\n",
    "for i in poem:\n",
    "    if i not in strip:\n",
    "        poem1 = poem1 + i\n",
    "print(poem1)"
   ]
  },
  {
   "cell_type": "code",
   "execution_count": 24,
   "id": "a36eb4e0",
   "metadata": {},
   "outputs": [
    {
     "name": "stdout",
     "output_type": "stream",
     "text": [
      "<class 'str'>\n"
     ]
    }
   ],
   "source": [
    "#find all the words that appear in the text and do not appear in the blacklist. \n",
    "#You must parse the string but can choose any data structure you wish for the words \n",
    "#that do not appear in the blacklist. Remove all non letter characters and convert all words to lower case.\n",
    "\n",
    "blacklist = ['and', 'as', 'an', 'a', 'the', 'in', 'it']\n",
    "\n",
    "poem = \"\"\"I was angry with my friend; \n",
    "I told my wrath, my wrath did end.\n",
    "I was angry with my foe: \n",
    "I told it not, my wrath did grow. \n",
    "\n",
    "And I waterd it in fears,\n",
    "Night & morning with my tears: \n",
    "And I sunned it with smiles,\n",
    "And with soft deceitful wiles. \n",
    "\n",
    "And it grew both day and night. \n",
    "Till it bore an apple bright. \n",
    "And my foe beheld it shine,\n",
    "And he knew that it was mine. \n",
    "\n",
    "And into my garden stole, \n",
    "When the night had veild the pole; \n",
    "In the morning glad I see; \n",
    "My foe outstretched beneath the tree.\"\"\"\n",
    "\n",
    "str(poem)\n",
    "\n",
    "print(type(poem))"
   ]
  },
  {
   "cell_type": "code",
   "execution_count": 27,
   "id": "e21afd1c",
   "metadata": {
    "scrolled": true
   },
   "outputs": [
    {
     "data": {
      "text/plain": [
       "['I',\n",
       " 'was',\n",
       " 'angry',\n",
       " 'with',\n",
       " 'my',\n",
       " 'friend;',\n",
       " 'I',\n",
       " 'told',\n",
       " 'my',\n",
       " 'wrath,',\n",
       " 'my',\n",
       " 'wrath',\n",
       " 'did',\n",
       " 'end.',\n",
       " 'I',\n",
       " 'was',\n",
       " 'angry',\n",
       " 'with',\n",
       " 'my',\n",
       " 'foe:',\n",
       " 'I',\n",
       " 'told',\n",
       " 'it',\n",
       " 'not,',\n",
       " 'my',\n",
       " 'wrath',\n",
       " 'did',\n",
       " 'grow.',\n",
       " 'And',\n",
       " 'I',\n",
       " 'waterd',\n",
       " 'it',\n",
       " 'in',\n",
       " 'fears,',\n",
       " 'Night',\n",
       " '&',\n",
       " 'morning',\n",
       " 'with',\n",
       " 'my',\n",
       " 'tears:',\n",
       " 'And',\n",
       " 'I',\n",
       " 'sunned',\n",
       " 'it',\n",
       " 'with',\n",
       " 'smiles,',\n",
       " 'And',\n",
       " 'with',\n",
       " 'soft',\n",
       " 'deceitful',\n",
       " 'wiles.',\n",
       " 'And',\n",
       " 'it',\n",
       " 'grew',\n",
       " 'both',\n",
       " 'day',\n",
       " 'and',\n",
       " 'night.',\n",
       " 'Till',\n",
       " 'it',\n",
       " 'bore',\n",
       " 'an',\n",
       " 'apple',\n",
       " 'bright.',\n",
       " 'And',\n",
       " 'my',\n",
       " 'foe',\n",
       " 'beheld',\n",
       " 'it',\n",
       " 'shine,',\n",
       " 'And',\n",
       " 'he',\n",
       " 'knew',\n",
       " 'that',\n",
       " 'it',\n",
       " 'was',\n",
       " 'mine.',\n",
       " 'And',\n",
       " 'into',\n",
       " 'my',\n",
       " 'garden',\n",
       " 'stole,',\n",
       " 'When',\n",
       " 'the',\n",
       " 'night',\n",
       " 'had',\n",
       " 'veild',\n",
       " 'the',\n",
       " 'pole;',\n",
       " 'In',\n",
       " 'the',\n",
       " 'morning',\n",
       " 'glad',\n",
       " 'I',\n",
       " 'see;',\n",
       " 'My',\n",
       " 'foe',\n",
       " 'outstretched',\n",
       " 'beneath',\n",
       " 'the',\n",
       " 'tree.']"
      ]
     },
     "execution_count": 27,
     "metadata": {},
     "output_type": "execute_result"
    }
   ],
   "source": [
    "x = poem.split()\n",
    "x"
   ]
  },
  {
   "cell_type": "code",
   "execution_count": 34,
   "id": "6e97ddc1",
   "metadata": {},
   "outputs": [
    {
     "name": "stdout",
     "output_type": "stream",
     "text": [
      "Words are not in the blacklist is: ['I', 'was', 'angry', 'with', 'my', 'friend;', 'I', 'told', 'my', 'wrath,', 'my', 'wrath', 'did', 'end.', 'I', 'was', 'angry', 'with', 'my', 'foe:', 'I', 'told', 'not,', 'my', 'wrath', 'did', 'grow.', 'And', 'I', 'waterd', 'fears,', 'Night', '&', 'morning', 'with', 'my', 'tears:', 'And', 'I', 'sunned', 'with', 'smiles,', 'And', 'with', 'soft', 'deceitful', 'wiles.', 'And', 'grew', 'both', 'day', 'night.', 'Till', 'bore', 'apple', 'bright.', 'And', 'my', 'foe', 'beheld', 'shine,', 'And', 'he', 'knew', 'that', 'was', 'mine.', 'And', 'into', 'my', 'garden', 'stole,', 'When', 'night', 'had', 'veild', 'pole;', 'In', 'morning', 'glad', 'I', 'see;', 'My', 'foe', 'outstretched', 'beneath', 'tree.', 'I', 'was', 'angry', 'with', 'my', 'friend;', 'I', 'told', 'my', 'wrath,', 'my', 'wrath', 'did', 'end.', 'I', 'was', 'angry', 'with', 'my', 'foe:', 'I', 'told']\n"
     ]
    }
   ],
   "source": [
    "y = [i for i in x if i not in blacklist]\n",
    "print(\"Words are not in the blacklist are:\", y)\n",
    "        "
   ]
  },
  {
   "cell_type": "code",
   "execution_count": null,
   "id": "58a057c3",
   "metadata": {},
   "outputs": [],
   "source": []
  }
 ],
 "metadata": {
  "kernelspec": {
   "display_name": "Python 3 (ipykernel)",
   "language": "python",
   "name": "python3"
  },
  "language_info": {
   "codemirror_mode": {
    "name": "ipython",
    "version": 3
   },
   "file_extension": ".py",
   "mimetype": "text/x-python",
   "name": "python",
   "nbconvert_exporter": "python",
   "pygments_lexer": "ipython3",
   "version": "3.9.13"
  }
 },
 "nbformat": 4,
 "nbformat_minor": 5
}

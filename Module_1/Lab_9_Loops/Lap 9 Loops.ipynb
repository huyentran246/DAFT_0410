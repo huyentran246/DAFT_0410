{
 "cells": [
  {
   "cell_type": "code",
   "execution_count": 3,
   "id": "15b6f74c",
   "metadata": {},
   "outputs": [
    {
     "name": "stdout",
     "output_type": "stream",
     "text": [
      "Please enter your password: 56\n",
      "Not a Valid Password\n"
     ]
    }
   ],
   "source": [
    "# 3.Write a Python program to check the validity of a password (input from users).\n",
    "#At least 1 letter between [a-z] and 1 letter between [A-Z].\n",
    "\n",
    "#At least 1 number between [0-9].\n",
    "\n",
    "#At least 1 character from [$#@].\n",
    "\n",
    "#Minimum length 6 characters.\n",
    "\n",
    "#Maximum length 16 characters.\n",
    "\n",
    "\n",
    "import re\n",
    "x = input(\"Please enter your password: \")\n",
    "y = True\n",
    "while y:  \n",
    "    if (len(x)<6 or len(x)>16):\n",
    "        break\n",
    "    elif not re.search(\"[a-z]\",x):\n",
    "        break\n",
    "    elif not re.search(\"[A-Z]\",x):\n",
    "        break    \n",
    "    elif not re.search(\"[0-9]\",x):\n",
    "        break\n",
    "    elif not re.search(\"[$#@]\",x):\n",
    "        break\n",
    "    else:\n",
    "        print(\"Valid Password\")\n",
    "        y=False\n",
    "        break\n",
    "\n",
    "if y:\n",
    "    print(\"Not a Valid Password\")   "
   ]
  },
  {
   "cell_type": "code",
   "execution_count": 4,
   "id": "0212311a",
   "metadata": {},
   "outputs": [
    {
     "name": "stdout",
     "output_type": "stream",
     "text": [
      "1\n",
      "2\n",
      "3\n",
      "4\n",
      "5\n",
      "6\n",
      "7\n",
      "8\n",
      "9\n",
      "10\n"
     ]
    }
   ],
   "source": [
    "#1. Print first 10 natural numbers using while loop\n",
    "x = 0\n",
    "\n",
    "while x < 10:\n",
    "    x+=1\n",
    "    print(x)"
   ]
  },
  {
   "cell_type": "code",
   "execution_count": 5,
   "id": "fd392c44",
   "metadata": {},
   "outputs": [
    {
     "name": "stdout",
     "output_type": "stream",
     "text": [
      "75\n",
      "150\n",
      "145\n",
      "50\n"
     ]
    }
   ],
   "source": [
    "# 2. Display numbers from a list using loop\n",
    "#The number must be divisible by five\n",
    "\n",
    "#If the number is greater than 150, then skip it and move to the next number\n",
    "\n",
    "#If the number is greater than 500, then stop the loop\n",
    "\n",
    "numbers = [12, 75, 150, 180, 145, 525, 50]\n",
    "\n",
    "for i in numbers:\n",
    "    if i % 5 == 0:\n",
    "        if i > 150:\n",
    "            continue\n",
    "        if i > 500:\n",
    "            break\n",
    "        print(i)      "
   ]
  },
  {
   "cell_type": "code",
   "execution_count": 10,
   "id": "d7cd7355",
   "metadata": {},
   "outputs": [
    {
     "name": "stdout",
     "output_type": "stream",
     "text": [
      "Enter numbers you want to calculate, enter 0 when you finish entering your numbers.\n",
      "45\n",
      "78\n",
      "12\n",
      "0\n",
      "Sum and average of the above numbers are:  135.0 45.0\n"
     ]
    }
   ],
   "source": [
    "# 5. Write a Python program to calculate the sum and average of n integer numbers (input from the user). \n",
    "# Input 0 to finish.\n",
    "\n",
    "print(\"Enter numbers you want to calculate, enter 0 when you finish entering your numbers.\")\n",
    "\n",
    "count = 0\n",
    "sum = 0.0\n",
    "number = 1\n",
    "\n",
    "while number != 0:\n",
    "    number = int(input(\"\"))\n",
    "    sum = sum + number\n",
    "    count += 1\n",
    "\n",
    "if count == 0:\n",
    "    print(\"Input some numbers\")\n",
    "else:\n",
    "    print(\"Sum and average of the above numbers are: \", sum, sum / (count-1))"
   ]
  },
  {
   "cell_type": "code",
   "execution_count": 4,
   "id": "d05d6dec",
   "metadata": {},
   "outputs": [
    {
     "name": "stdout",
     "output_type": "stream",
     "text": [
      "1\n",
      "2\n",
      "3\n",
      "4\n",
      "5\n"
     ]
    }
   ],
   "source": [
    "# 4. Break the loop when x is 6, and see what happens with the else block\n",
    "\n",
    "x = 0\n",
    "\n",
    "while x < 10:\n",
    "    x+=1\n",
    "    if x == 6:\n",
    "        break\n",
    "    print(x)\n",
    "    while "
   ]
  },
  {
   "cell_type": "code",
   "execution_count": null,
   "id": "343c0667",
   "metadata": {},
   "outputs": [],
   "source": []
  }
 ],
 "metadata": {
  "kernelspec": {
   "display_name": "Python 3 (ipykernel)",
   "language": "python",
   "name": "python3"
  },
  "language_info": {
   "codemirror_mode": {
    "name": "ipython",
    "version": 3
   },
   "file_extension": ".py",
   "mimetype": "text/x-python",
   "name": "python",
   "nbconvert_exporter": "python",
   "pygments_lexer": "ipython3",
   "version": "3.9.13"
  }
 },
 "nbformat": 4,
 "nbformat_minor": 5
}

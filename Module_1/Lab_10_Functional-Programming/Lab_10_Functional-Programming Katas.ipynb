{
 "cells": [
  {
   "cell_type": "code",
   "execution_count": 4,
   "id": "007ab818",
   "metadata": {},
   "outputs": [
    {
     "name": "stdout",
     "output_type": "stream",
     "text": [
      "17\n"
     ]
    }
   ],
   "source": [
    "# Consider an array/list of sheep where some sheep may be missing from their place. \n",
    "#We need a function that counts the number of sheep present in the array (true means present).\n",
    "\n",
    "import numpy as np\n",
    "\n",
    "sheep = [True,  True,  True,  False,\n",
    "  True,  True,  True,  True ,\n",
    "  True,  False, True,  False,\n",
    "  True,  False, False, True ,\n",
    "  True,  True,  True,  True ,\n",
    "  False, False, True,  True]\n",
    "\n",
    "def count_sheep(sheep_list):\n",
    "    count = 0\n",
    "    for s in sheep_list:\n",
    "        if s == True:\n",
    "            count += 1\n",
    "    return count\n",
    "print(count_sheep(sheep))"
   ]
  },
  {
   "cell_type": "code",
   "execution_count": 8,
   "id": "1fb8edc7",
   "metadata": {},
   "outputs": [
    {
     "name": "stdout",
     "output_type": "stream",
     "text": [
      "[0, 2, 4, 6]\n"
     ]
    }
   ],
   "source": [
    "#Take an array and remove every second element from the array. \n",
    "#Always keep the first element and start removing with the next element.\n",
    "\n",
    "a = [0, 1, 2, 3, 4, 5, 6, 7]\n",
    "\n",
    "def remove(a):   \n",
    "    return a[::2]\n",
    "print(remove(a))\n"
   ]
  },
  {
   "cell_type": "code",
   "execution_count": 9,
   "id": "9f1c51f9",
   "metadata": {},
   "outputs": [
    {
     "name": "stdout",
     "output_type": "stream",
     "text": [
      "[5, 6, 7]\n"
     ]
    }
   ],
   "source": [
    "#Convert number to reversed array of digits\n",
    "\n",
    "#Given a random non-negative number, you have to return the digits of this number within an array in reverse order.\n",
    "\n",
    "\n",
    "def digitize(n):\n",
    "    my_list = [int(i) for i in str(n)]\n",
    "    return my_list\n",
    "print(digitize(567))"
   ]
  },
  {
   "cell_type": "code",
   "execution_count": 10,
   "id": "e0d640bb",
   "metadata": {},
   "outputs": [
    {
     "name": "stdout",
     "output_type": "stream",
     "text": [
      "253649\n"
     ]
    }
   ],
   "source": [
    "#In this kata, you are asked to square every digit of a number and concatenate them.\n",
    "\n",
    "#For example, if we run 9119 through the function, 811181 will come out, because 92 is 81 and 12 is 1. (81-1-1-81)\n",
    "\n",
    "#Example #2: An input of 765 will/should return 493625 because 72 is 49, 62 is 36, and 52 is 25. (49-36-25)\n",
    "\n",
    "#Note: The function accepts an integer and returns an integer.\n",
    "\n",
    "def square_digits(number):\n",
    "    digits = [int(i) for i in str(number)]\n",
    "    square_digits = ''.join(str(i**2) for i in digits)\n",
    "    return int(square_digits)\n",
    "print(square_digits(567))"
   ]
  },
  {
   "cell_type": "code",
   "execution_count": null,
   "id": "2cde076d",
   "metadata": {},
   "outputs": [],
   "source": [
    "#We need a method in the List Class that may count specific digits from a given list of integers. \n",
    "#This marked digits will be given in a second list. The method .count_spec_digits()/.countSpecDigits() \n",
    "#will accept two arguments, a list of an uncertain amount of integers integers_lists/integersLists \n",
    "#(and of an uncertain amount of digits, too) and a second list, digits_list/digitsList \n",
    "#that has the specific digits to count which length cannot be be longer than 10 \n",
    "#(It's obvious, we've got ten digits). The method will output a list of tuples, each tuple having two elements, \n",
    "#the first one will be a digit to count, and second one, its corresponding total frequency in all the integers \n",
    "#of the first list. This list of tuples should be ordered with the same order that the digits have in digitsList\n",
    "\n",
    "class List(object):\n",
    "    def count_spec_digits(self, integers_list, digits_list):\n",
    "        \n",
    "        return [(,), (,), ..,(,)]\n",
    "\n"
   ]
  }
 ],
 "metadata": {
  "kernelspec": {
   "display_name": "Python 3 (ipykernel)",
   "language": "python",
   "name": "python3"
  },
  "language_info": {
   "codemirror_mode": {
    "name": "ipython",
    "version": 3
   },
   "file_extension": ".py",
   "mimetype": "text/x-python",
   "name": "python",
   "nbconvert_exporter": "python",
   "pygments_lexer": "ipython3",
   "version": "3.9.13"
  }
 },
 "nbformat": 4,
 "nbformat_minor": 5
}

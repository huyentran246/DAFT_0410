{
 "cells": [
  {
   "cell_type": "markdown",
   "metadata": {},
   "source": [
    "# Before your start:\n",
    "- Read the README.md file\n",
    "- Comment as much as you can and use the resources in the README.md file\n",
    "- Happy learning!"
   ]
  },
  {
   "cell_type": "markdown",
   "metadata": {},
   "source": [
    "# Challenge 1 - Working with JSON files\n",
    "\n",
    "Import the pandas library."
   ]
  },
  {
   "cell_type": "code",
   "execution_count": 1,
   "metadata": {},
   "outputs": [],
   "source": [
    "# your code here\n",
    "import pandas as pd"
   ]
  },
  {
   "cell_type": "markdown",
   "metadata": {},
   "source": [
    "In the next cell, load the data in `nasa.json` in the `data` folder and load it into a pandas dataframe. Name the dataframe `nasa`."
   ]
  },
  {
   "cell_type": "code",
   "execution_count": 7,
   "metadata": {},
   "outputs": [],
   "source": [
    "# your code here\n",
    "nasa = pd.read_csv"
   ]
  },
  {
   "cell_type": "markdown",
   "metadata": {},
   "source": [
    "Now that we have loaded the data, let's examine it using the `head()` function."
   ]
  },
  {
   "cell_type": "code",
   "execution_count": 8,
   "metadata": {},
   "outputs": [
    {
     "data": {
      "text/html": [
       "<div>\n",
       "<style scoped>\n",
       "    .dataframe tbody tr th:only-of-type {\n",
       "        vertical-align: middle;\n",
       "    }\n",
       "\n",
       "    .dataframe tbody tr th {\n",
       "        vertical-align: top;\n",
       "    }\n",
       "\n",
       "    .dataframe thead th {\n",
       "        text-align: right;\n",
       "    }\n",
       "</style>\n",
       "<table border=\"1\" class=\"dataframe\">\n",
       "  <thead>\n",
       "    <tr style=\"text-align: right;\">\n",
       "      <th></th>\n",
       "      <th>[{\":@computed_region_cbhk_fwbd\":null</th>\n",
       "      <th>:@computed_region_nnqa_25f4:null</th>\n",
       "      <th>fall:\"Fell\"</th>\n",
       "      <th>geolocation:{\"type\":\"Point\"</th>\n",
       "      <th>coordinates:[6.08333</th>\n",
       "      <th>50.775]}</th>\n",
       "      <th>id:1</th>\n",
       "      <th>mass:21.0</th>\n",
       "      <th>name:\"Aachen\"</th>\n",
       "      <th>nametype:\"Valid\"</th>\n",
       "      <th>...</th>\n",
       "      <th>coordinates:[34.76667</th>\n",
       "      <th>47.85]}.1</th>\n",
       "      <th>id:24019</th>\n",
       "      <th>mass:600.0.2</th>\n",
       "      <th>name:\"Tomakovka\"</th>\n",
       "      <th>nametype:\"Valid\".999</th>\n",
       "      <th>recclass:\"LL6\".38</th>\n",
       "      <th>reclat:47.85.1</th>\n",
       "      <th>reclong:34.76667</th>\n",
       "      <th>year:\"1905-01-01T00:00:00.000\"}]</th>\n",
       "    </tr>\n",
       "  </thead>\n",
       "  <tbody>\n",
       "  </tbody>\n",
       "</table>\n",
       "<p>0 rows × 14016 columns</p>\n",
       "</div>"
      ],
      "text/plain": [
       "Empty DataFrame\n",
       "Columns: [[{\":@computed_region_cbhk_fwbd\":null, :@computed_region_nnqa_25f4:null, fall:\"Fell\", geolocation:{\"type\":\"Point\", coordinates:[6.08333, 50.775]}, id:1, mass:21.0, name:\"Aachen\", nametype:\"Valid\", recclass:\"L5\", reclat:50.775, reclong:6.08333, year:\"1880-01-01T00:00:00.000\"}, {\":@computed_region_cbhk_fwbd\":null, :@computed_region_nnqa_25f4:null.1, fall:\"Fell\".1, geolocation:{\"type\":\"Point\".1, coordinates:[10.23333, 56.18333]}, id:2, mass:720.0, name:\"Aarhus\", nametype:\"Valid\".1, recclass:\"H6\", reclat:56.18333, reclong:10.23333, year:\"1951-01-01T00:00:00.000\"}, {\":@computed_region_cbhk_fwbd\":null.1, :@computed_region_nnqa_25f4:null.2, fall:\"Fell\".2, geolocation:{\"type\":\"Point\".2, coordinates:[-113, 54.21667]}, id:6, mass:107000.0, name:\"Abee\", nametype:\"Valid\".2, recclass:\"EH4\", reclat:54.21667, reclong:-113.0, year:\"1952-01-01T00:00:00.000\"}, {\":@computed_region_cbhk_fwbd\":null.2, :@computed_region_nnqa_25f4:null.3, fall:\"Fell\".3, geolocation:{\"type\":\"Point\".3, coordinates:[-99.9, 16.88333]}, id:10, mass:1914.0, name:\"Acapulco\", nametype:\"Valid\".3, recclass:\"Acapulcoite\", reclat:16.88333, reclong:-99.9, year:\"1976-01-01T00:00:00.000\"}, {\":@computed_region_cbhk_fwbd\":null.3, :@computed_region_nnqa_25f4:null.4, fall:\"Fell\".4, geolocation:{\"type\":\"Point\".4, coordinates:[-64.95, -33.16667]}, id:370, mass:780.0, name:\"Achiras\", nametype:\"Valid\".4, recclass:\"L6\", reclat:-33.16667, reclong:-64.95, year:\"1902-01-01T00:00:00.000\"}, {\":@computed_region_cbhk_fwbd\":null.4, :@computed_region_nnqa_25f4:null.5, fall:\"Fell\".5, geolocation:{\"type\":\"Point\".5, coordinates:[71.8, 32.1]}, id:379, mass:4239.0, name:\"Adhi Kot\", nametype:\"Valid\".5, recclass:\"EH4\".1, reclat:32.1, reclong:71.8, year:\"1919-01-01T00:00:00.000\"}, {\":@computed_region_cbhk_fwbd\":null.5, :@computed_region_nnqa_25f4:null.6, fall:\"Fell\".6, geolocation:{\"type\":\"Point\".6, coordinates:[95.16667, 44.83333]}, id:390, mass:910.0, name:\"Adzhi-Bogdo (stone)\", nametype:\"Valid\".6, recclass:\"LL3-6\", reclat:44.83333, reclong:95.16667, year:\"1949-01-01T00:00:00.000\"}, {\":@computed_region_cbhk_fwbd\":null.6, :@computed_region_nnqa_25f4:null.7, ...]\n",
       "Index: []\n",
       "\n",
       "[0 rows x 14016 columns]"
      ]
     },
     "execution_count": 8,
     "metadata": {},
     "output_type": "execute_result"
    }
   ],
   "source": [
    "# your code here\n",
    "nasa.head(5)"
   ]
  },
  {
   "cell_type": "markdown",
   "metadata": {},
   "source": [
    "#### The `value_counts()` function is commonly used in pandas to find the frequency of every value in a column.\n",
    "\n",
    "In the cell below, use the `value_counts()` function to determine the frequency of all types of asteroid landings by applying the function to the `fall` column."
   ]
  },
  {
   "cell_type": "code",
   "execution_count": 5,
   "metadata": {},
   "outputs": [],
   "source": [
    "# your code here"
   ]
  },
  {
   "cell_type": "markdown",
   "metadata": {},
   "source": [
    "Finally, let's save the dataframe as a json file again. Save the dataframe using the `orient=records` argument and name the file `nasa-output.json`. Remember to save the file inside the `data` folder."
   ]
  },
  {
   "cell_type": "code",
   "execution_count": 6,
   "metadata": {},
   "outputs": [],
   "source": [
    "# your code here"
   ]
  },
  {
   "cell_type": "markdown",
   "metadata": {},
   "source": [
    "# Challenge 2 - Working with CSV and Other Separated Files\n",
    "\n",
    "CSV files are more commonly used as dataframes. In the cell below, load the file from the URL provided using the `read_csv()` function in pandas. Starting version 0.19 of pandas, you can load a CSV file into a dataframe directly from a URL without having to load the file first and then transform it. The dataset we will be using contains information about NASA shuttles.\n",
    "\n",
    "In the cell below, we define the column names and the URL of the data. Following this cell, read the tst file to a variable called `shuttle`. Since the file does not contain the column names, you must add them yourself using the column names declared in `cols` using the `names` argument. Additionally, a tst file is space separated, make sure you pass ` sep=' '` to the function."
   ]
  },
  {
   "cell_type": "code",
   "execution_count": 1,
   "metadata": {},
   "outputs": [],
   "source": [
    "cols = ['time', 'rad_flow', 'fpv_close', 'fpv_open', 'high', 'bypass', 'bpv_close', 'bpv_open', 'class']\n",
    "tst_url = 'https://archive.ics.uci.edu/ml/machine-learning-databases/statlog/shuttle/shuttle.tst'"
   ]
  },
  {
   "cell_type": "code",
   "execution_count": 8,
   "metadata": {},
   "outputs": [],
   "source": [
    "# your code here"
   ]
  },
  {
   "cell_type": "markdown",
   "metadata": {},
   "source": [
    "Let's verify that this worked by looking at the `head()` function."
   ]
  },
  {
   "cell_type": "code",
   "execution_count": 9,
   "metadata": {},
   "outputs": [],
   "source": [
    "# your code here"
   ]
  },
  {
   "cell_type": "markdown",
   "metadata": {},
   "source": [
    "To make life easier for us, let's turn this dataframe into a comma separated file by saving it using the `to_csv()` function. Save `shuttle` into the file `shuttle.csv` and ensure the file is comma separated, that we are not saving the index column and that the file is saved inside the `data` folder."
   ]
  },
  {
   "cell_type": "code",
   "execution_count": 10,
   "metadata": {},
   "outputs": [],
   "source": [
    "# your code here"
   ]
  },
  {
   "cell_type": "markdown",
   "metadata": {},
   "source": [
    "# Challenge 3 - Working with Excel Files\n",
    "\n",
    "We can also use pandas to convert excel spreadsheets to dataframes. Let's use the `read_excel()` function. In this case, `astronauts.xls` is in the `data` folder. Read this file into a variable called `astronaut`. \n",
    "\n",
    "Note: Make sure to install the `xlrd` library if it is not yet installed."
   ]
  },
  {
   "cell_type": "code",
   "execution_count": 11,
   "metadata": {},
   "outputs": [],
   "source": [
    "# your code here"
   ]
  },
  {
   "cell_type": "markdown",
   "metadata": {},
   "source": [
    "Use the `head()` function to inspect the dataframe."
   ]
  },
  {
   "cell_type": "code",
   "execution_count": 12,
   "metadata": {},
   "outputs": [],
   "source": [
    "# your code here"
   ]
  },
  {
   "cell_type": "markdown",
   "metadata": {},
   "source": [
    "Use the `value_counts()` function to find the most popular undergraduate major among all astronauts."
   ]
  },
  {
   "cell_type": "code",
   "execution_count": 13,
   "metadata": {},
   "outputs": [],
   "source": [
    "# your code here"
   ]
  },
  {
   "cell_type": "markdown",
   "metadata": {},
   "source": [
    "Due to all the commas present in the cells of this file, let's save it as a tab separated csv file. In the cell below, save `astronaut` as a **tab separated file** using the `to_csv` function. Call the file `astronaut.csv`. Remember to remove the index column and save the file in the `data` folder."
   ]
  },
  {
   "cell_type": "code",
   "execution_count": 14,
   "metadata": {},
   "outputs": [],
   "source": [
    "# your code here"
   ]
  },
  {
   "cell_type": "markdown",
   "metadata": {},
   "source": [
    "# Bonus Challenge - Fertility Dataset\n",
    "\n",
    "Visit the following [URL](https://archive.ics.uci.edu/ml/datasets/Fertility) and retrieve the dataset as well as the column headers. Determine the correct separator and read the file into a variable called `fertility`. Examine the dataframe using the `head()` function. \n",
    "\n",
    "Look in Google for a way to retrieve this data!"
   ]
  },
  {
   "cell_type": "code",
   "execution_count": 15,
   "metadata": {},
   "outputs": [],
   "source": [
    "# your code here"
   ]
  }
 ],
 "metadata": {
  "kernelspec": {
   "display_name": "Python 3 (ipykernel)",
   "language": "python",
   "name": "python3"
  },
  "language_info": {
   "codemirror_mode": {
    "name": "ipython",
    "version": 3
   },
   "file_extension": ".py",
   "mimetype": "text/x-python",
   "name": "python",
   "nbconvert_exporter": "python",
   "pygments_lexer": "ipython3",
   "version": "3.10.9"
  }
 },
 "nbformat": 4,
 "nbformat_minor": 2
}

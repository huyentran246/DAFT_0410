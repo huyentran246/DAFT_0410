{
 "cells": [
  {
   "cell_type": "code",
   "execution_count": 1,
   "id": "384977a5",
   "metadata": {},
   "outputs": [
    {
     "data": {
      "text/plain": [
       "str"
      ]
     },
     "execution_count": 1,
     "metadata": {},
     "output_type": "execute_result"
    }
   ],
   "source": [
    "tup = (\"I\")\n",
    "type(tup)"
   ]
  },
  {
   "cell_type": "code",
   "execution_count": 2,
   "id": "081d0012",
   "metadata": {},
   "outputs": [
    {
     "ename": "AttributeError",
     "evalue": "'str' object has no attribute 'append'",
     "output_type": "error",
     "traceback": [
      "\u001b[0;31m---------------------------------------------------------------------------\u001b[0m",
      "\u001b[0;31mAttributeError\u001b[0m                            Traceback (most recent call last)",
      "\u001b[0;32m/var/folders/hz/wdxy33c549592d70h0kdzm8c0000gn/T/ipykernel_1564/1832108399.py\u001b[0m in \u001b[0;36m<module>\u001b[0;34m\u001b[0m\n\u001b[1;32m      1\u001b[0m \u001b[0;31m# we can't append the elments to tuple because tuple is immutable\u001b[0m\u001b[0;34m\u001b[0m\u001b[0;34m\u001b[0m\u001b[0m\n\u001b[0;32m----> 2\u001b[0;31m \u001b[0mtup\u001b[0m\u001b[0;34m.\u001b[0m\u001b[0mappend\u001b[0m\u001b[0;34m(\u001b[0m\u001b[0;34m\"r\"\u001b[0m\u001b[0;34m,\u001b[0m \u001b[0;34m\"o\"\u001b[0m\u001b[0;34m,\u001b[0m \u001b[0;34m\"n\"\u001b[0m\u001b[0;34m,\u001b[0m \u001b[0;34m\"h\"\u001b[0m\u001b[0;34m,\u001b[0m \u001b[0;34m\"a\"\u001b[0m\u001b[0;34m,\u001b[0m \u001b[0;34m\"c\"\u001b[0m\u001b[0;34m,\u001b[0m \u001b[0;34m\"k\"\u001b[0m\u001b[0;34m)\u001b[0m\u001b[0;34m\u001b[0m\u001b[0;34m\u001b[0m\u001b[0m\n\u001b[0m\u001b[1;32m      3\u001b[0m \u001b[0;31m# we can't reassign a new value to existing tuple.\u001b[0m\u001b[0;34m\u001b[0m\u001b[0;34m\u001b[0m\u001b[0m\n",
      "\u001b[0;31mAttributeError\u001b[0m: 'str' object has no attribute 'append'"
     ]
    }
   ],
   "source": [
    "# we can't append the elments to tuple because tuple is immutable\n",
    "tup.append(\"r\", \"o\", \"n\", \"h\", \"a\", \"c\", \"k\")\n"
   ]
  },
  {
   "cell_type": "code",
   "execution_count": 4,
   "id": "dd404a62",
   "metadata": {},
   "outputs": [
    {
     "data": {
      "text/plain": [
       "('I', 'r', 'o', 'n', 'h', 'a', 'c', 'k')"
      ]
     },
     "execution_count": 4,
     "metadata": {},
     "output_type": "execute_result"
    }
   ],
   "source": [
    "# re-assign a new value to an existing tuple\n",
    "tup = (\"I\", \"r\", \"o\", \"n\", \"h\", \"a\", \"c\", \"k\")\n",
    "tup"
   ]
  },
  {
   "cell_type": "code",
   "execution_count": 6,
   "id": "eca617dd",
   "metadata": {},
   "outputs": [
    {
     "name": "stdout",
     "output_type": "stream",
     "text": [
      "('I', 'r', 'o', 'n')\n",
      "('h', 'a', 'c', 'k')\n"
     ]
    }
   ],
   "source": [
    "# Split tup into tup1 and tup2\n",
    "tup1 = tup[:4]\n",
    "tup2 = tup[4:]\n",
    "print(tup1)\n",
    "print(tup2)"
   ]
  },
  {
   "cell_type": "code",
   "execution_count": 7,
   "id": "9e9ea5f2",
   "metadata": {},
   "outputs": [
    {
     "data": {
      "text/plain": [
       "('I', 'r', 'o', 'n', 'h', 'a', 'c', 'k')"
      ]
     },
     "execution_count": 7,
     "metadata": {},
     "output_type": "execute_result"
    }
   ],
   "source": [
    "# Add tup1 and tup2 into tup3 using the + operator.\n",
    "tup3 = tup1 + tup2\n",
    "tup3"
   ]
  },
  {
   "cell_type": "code",
   "execution_count": 9,
   "id": "9be5b553",
   "metadata": {},
   "outputs": [
    {
     "name": "stdout",
     "output_type": "stream",
     "text": [
      "4\n",
      "4\n",
      "8\n",
      "8\n"
     ]
    }
   ],
   "source": [
    "# Count the number of elements in tup1 and tup2. \n",
    "#Then add the two counts together and check if the sum is the same as the number of elements in tup3.\n",
    "x = len(tup1)\n",
    "y = len(tup2)\n",
    "print(x)\n",
    "print(y)\n",
    "print(len(tup3))\n",
    "print(x + y)"
   ]
  },
  {
   "cell_type": "code",
   "execution_count": 10,
   "id": "00b6a1b3",
   "metadata": {},
   "outputs": [
    {
     "name": "stdout",
     "output_type": "stream",
     "text": [
      "4\n"
     ]
    }
   ],
   "source": [
    "# What is the index number of \"h\" in tup3?\n",
    "print(tup3.index('h'))"
   ]
  },
  {
   "cell_type": "code",
   "execution_count": 11,
   "id": "0777fbfd",
   "metadata": {},
   "outputs": [
    {
     "name": "stdout",
     "output_type": "stream",
     "text": [
      "a is in tup3\n",
      "b isn't in tup3\n",
      "c is in tup3\n",
      "d isn't in tup3\n",
      "e isn't in tup3\n"
     ]
    }
   ],
   "source": [
    "# use a FOR loop to check whether each letter in the following list is present in tup3:\n",
    "letters = [\"a\", \"b\", \"c\", \"d\", \"e\"]\n",
    "for i in letters:\n",
    "    if i in tup3:\n",
    "        print(i, \"is in tup3\")\n",
    "    else:\n",
    "        print(i, \"isn't in tup3\")"
   ]
  },
  {
   "cell_type": "code",
   "execution_count": 13,
   "id": "f4ea8928",
   "metadata": {},
   "outputs": [
    {
     "name": "stdout",
     "output_type": "stream",
     "text": [
      "a appears in tup3 1 time/times\n",
      "b doesn't appear in tup3\n",
      "c appears in tup3 1 time/times\n",
      "d doesn't appear in tup3\n",
      "e doesn't appear in tup3\n"
     ]
    }
   ],
   "source": [
    "# How many times does each letter in letters appear in tup3?\n",
    "for i in letters:\n",
    "    if i in tup3:\n",
    "        print(i, \"appears in tup3\", tup3.count(i), \"time/times\")\n",
    "    else:\n",
    "        print(i, \"doesn't appear in tup3\")"
   ]
  },
  {
   "cell_type": "code",
   "execution_count": null,
   "id": "6e9df4ad",
   "metadata": {},
   "outputs": [],
   "source": []
  }
 ],
 "metadata": {
  "kernelspec": {
   "display_name": "Python 3 (ipykernel)",
   "language": "python",
   "name": "python3"
  },
  "language_info": {
   "codemirror_mode": {
    "name": "ipython",
    "version": 3
   },
   "file_extension": ".py",
   "mimetype": "text/x-python",
   "name": "python",
   "nbconvert_exporter": "python",
   "pygments_lexer": "ipython3",
   "version": "3.9.13"
  }
 },
 "nbformat": 4,
 "nbformat_minor": 5
}

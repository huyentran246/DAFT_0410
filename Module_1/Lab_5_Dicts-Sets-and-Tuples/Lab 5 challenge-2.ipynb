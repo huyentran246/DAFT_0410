{
 "cells": [
  {
   "cell_type": "code",
   "execution_count": 17,
   "id": "8d29e576",
   "metadata": {
    "scrolled": true
   },
   "outputs": [
    {
     "data": {
      "text/plain": [
       "[5,\n",
       " 73,\n",
       " 64,\n",
       " 15,\n",
       " 36,\n",
       " 8,\n",
       " 19,\n",
       " 38,\n",
       " 29,\n",
       " 39,\n",
       " 49,\n",
       " 67,\n",
       " 58,\n",
       " 97,\n",
       " 94,\n",
       " 56,\n",
       " 72,\n",
       " 11,\n",
       " 52,\n",
       " 59,\n",
       " 26,\n",
       " 60,\n",
       " 33,\n",
       " 50,\n",
       " 83,\n",
       " 48,\n",
       " 34,\n",
       " 14,\n",
       " 66,\n",
       " 71,\n",
       " 87,\n",
       " 81,\n",
       " 21,\n",
       " 37,\n",
       " 27,\n",
       " 98,\n",
       " 54,\n",
       " 80,\n",
       " 43,\n",
       " 42,\n",
       " 77,\n",
       " 88,\n",
       " 79,\n",
       " 9,\n",
       " 91,\n",
       " 10,\n",
       " 23,\n",
       " 70,\n",
       " 55,\n",
       " 57,\n",
       " 96,\n",
       " 32,\n",
       " 74,\n",
       " 63,\n",
       " 16,\n",
       " 13,\n",
       " 24,\n",
       " 20,\n",
       " 35,\n",
       " 95,\n",
       " 40,\n",
       " 93,\n",
       " 61,\n",
       " 41,\n",
       " 86,\n",
       " 3,\n",
       " 45,\n",
       " 47,\n",
       " 31,\n",
       " 84,\n",
       " 75,\n",
       " 92,\n",
       " 65,\n",
       " 12,\n",
       " 62,\n",
       " 6,\n",
       " 76,\n",
       " 44,\n",
       " 68,\n",
       " 69]"
      ]
     },
     "execution_count": 17,
     "metadata": {},
     "output_type": "execute_result"
    }
   ],
   "source": [
    "import random\n",
    "# create a list named sample_list_1 with 80 random values\n",
    "# Each value is an integer falling between 0 and 100.\n",
    "# Each value in the list is unique.\n",
    "sample_list_1 = random.sample(range(1,100), 80)\n",
    "sample_list_1"
   ]
  },
  {
   "cell_type": "code",
   "execution_count": 2,
   "id": "8573ee58",
   "metadata": {},
   "outputs": [
    {
     "data": {
      "text/plain": [
       "80"
      ]
     },
     "execution_count": 2,
     "metadata": {},
     "output_type": "execute_result"
    }
   ],
   "source": [
    "# Convert sample_list_1 to a set called set1. Print the length of the set. Is its length still 80?\n",
    "set1 = set(sample_list_1)\n",
    "len(set1)"
   ]
  },
  {
   "cell_type": "code",
   "execution_count": 3,
   "id": "235cb9db",
   "metadata": {
    "scrolled": true
   },
   "outputs": [
    {
     "data": {
      "text/plain": [
       "[99,\n",
       " 31,\n",
       " 17,\n",
       " 79,\n",
       " 9,\n",
       " 80,\n",
       " 52,\n",
       " 24,\n",
       " 62,\n",
       " 81,\n",
       " 14,\n",
       " 21,\n",
       " 27,\n",
       " 71,\n",
       " 72,\n",
       " 62,\n",
       " 63,\n",
       " 79,\n",
       " 39,\n",
       " 88,\n",
       " 17,\n",
       " 10,\n",
       " 81,\n",
       " 62,\n",
       " 5,\n",
       " 82,\n",
       " 10,\n",
       " 85,\n",
       " 13,\n",
       " 9,\n",
       " 16,\n",
       " 35,\n",
       " 13,\n",
       " 82,\n",
       " 93,\n",
       " 12,\n",
       " 98,\n",
       " 59,\n",
       " 19,\n",
       " 78,\n",
       " 34,\n",
       " 66,\n",
       " 39,\n",
       " 91,\n",
       " 65,\n",
       " 73,\n",
       " 51,\n",
       " 20,\n",
       " 7,\n",
       " 68,\n",
       " 53,\n",
       " 83,\n",
       " 84,\n",
       " 15,\n",
       " 97,\n",
       " 57,\n",
       " 37,\n",
       " 44,\n",
       " 98,\n",
       " 67,\n",
       " 24,\n",
       " 68,\n",
       " 81,\n",
       " 53,\n",
       " 37,\n",
       " 5,\n",
       " 64,\n",
       " 29,\n",
       " 36,\n",
       " 65,\n",
       " 96,\n",
       " 50,\n",
       " 88,\n",
       " 69,\n",
       " 1,\n",
       " 88,\n",
       " 87,\n",
       " 73,\n",
       " 23,\n",
       " 18]"
      ]
     },
     "execution_count": 3,
     "metadata": {},
     "output_type": "execute_result"
    }
   ],
   "source": [
    "# Create another list named sample_list_2 with 80 random values.\n",
    "#Each value is an integer falling between 0 and 100.\n",
    "# The values in the list don't have to be unique\n",
    "sample_list_2 = []\n",
    "for i in range(80):\n",
    "    sample_list_2.append(random.randint(1,100))\n",
    "sample_list_2"
   ]
  },
  {
   "cell_type": "code",
   "execution_count": 4,
   "id": "d1512baf",
   "metadata": {},
   "outputs": [
    {
     "data": {
      "text/plain": [
       "59"
      ]
     },
     "execution_count": 4,
     "metadata": {},
     "output_type": "execute_result"
    }
   ],
   "source": [
    "# Convert sample_list_2 to a set called set2. Print the length of the set. Is its length still 80?\n",
    "set2 = set(sample_list_2)\n",
    "len(set2)"
   ]
  },
  {
   "cell_type": "code",
   "execution_count": 5,
   "id": "b090ed23",
   "metadata": {
    "scrolled": true
   },
   "outputs": [
    {
     "data": {
      "text/plain": [
       "{2,\n",
       " 3,\n",
       " 6,\n",
       " 8,\n",
       " 11,\n",
       " 22,\n",
       " 25,\n",
       " 26,\n",
       " 28,\n",
       " 30,\n",
       " 32,\n",
       " 38,\n",
       " 40,\n",
       " 41,\n",
       " 42,\n",
       " 45,\n",
       " 46,\n",
       " 47,\n",
       " 48,\n",
       " 49,\n",
       " 54,\n",
       " 55,\n",
       " 56,\n",
       " 58,\n",
       " 60,\n",
       " 70,\n",
       " 75,\n",
       " 76,\n",
       " 77,\n",
       " 86,\n",
       " 89,\n",
       " 90,\n",
       " 92,\n",
       " 95}"
      ]
     },
     "execution_count": 5,
     "metadata": {},
     "output_type": "execute_result"
    }
   ],
   "source": [
    "# Identify the elements present in set1 but not in set2. Assign the elements to a new set named set3\n",
    "set3 = set1 - set2\n",
    "set3"
   ]
  },
  {
   "cell_type": "code",
   "execution_count": 7,
   "id": "5dede9ea",
   "metadata": {},
   "outputs": [
    {
     "data": {
      "text/plain": [
       "{13, 21, 27, 29, 31, 36, 39, 52, 57, 72, 79, 84, 87}"
      ]
     },
     "execution_count": 7,
     "metadata": {},
     "output_type": "execute_result"
    }
   ],
   "source": [
    "# Identify the elements present in set2 but not in set1. Assign the elements to a new set named set4\n",
    "set4 = set2 - set1\n",
    "set4"
   ]
  },
  {
   "cell_type": "code",
   "execution_count": 8,
   "id": "1ebe934a",
   "metadata": {
    "scrolled": true
   },
   "outputs": [
    {
     "data": {
      "text/plain": [
       "{1,\n",
       " 2,\n",
       " 3,\n",
       " 5,\n",
       " 6,\n",
       " 7,\n",
       " 8,\n",
       " 9,\n",
       " 10,\n",
       " 11,\n",
       " 12,\n",
       " 13,\n",
       " 14,\n",
       " 15,\n",
       " 16,\n",
       " 17,\n",
       " 18,\n",
       " 19,\n",
       " 20,\n",
       " 21,\n",
       " 22,\n",
       " 23,\n",
       " 24,\n",
       " 25,\n",
       " 26,\n",
       " 27,\n",
       " 28,\n",
       " 29,\n",
       " 30,\n",
       " 31,\n",
       " 32,\n",
       " 34,\n",
       " 35,\n",
       " 36,\n",
       " 37,\n",
       " 38,\n",
       " 39,\n",
       " 40,\n",
       " 41,\n",
       " 42,\n",
       " 44,\n",
       " 45,\n",
       " 46,\n",
       " 47,\n",
       " 48,\n",
       " 49,\n",
       " 50,\n",
       " 51,\n",
       " 52,\n",
       " 53,\n",
       " 54,\n",
       " 55,\n",
       " 56,\n",
       " 57,\n",
       " 58,\n",
       " 59,\n",
       " 60,\n",
       " 62,\n",
       " 63,\n",
       " 64,\n",
       " 65,\n",
       " 66,\n",
       " 67,\n",
       " 68,\n",
       " 69,\n",
       " 70,\n",
       " 71,\n",
       " 72,\n",
       " 73,\n",
       " 75,\n",
       " 76,\n",
       " 77,\n",
       " 78,\n",
       " 79,\n",
       " 80,\n",
       " 81,\n",
       " 82,\n",
       " 83,\n",
       " 84,\n",
       " 85,\n",
       " 86,\n",
       " 87,\n",
       " 88,\n",
       " 89,\n",
       " 90,\n",
       " 91,\n",
       " 92,\n",
       " 93,\n",
       " 95,\n",
       " 96,\n",
       " 97,\n",
       " 98,\n",
       " 99}"
      ]
     },
     "execution_count": 8,
     "metadata": {},
     "output_type": "execute_result"
    }
   ],
   "source": [
    "# Now Identify the elements shared between set1 and set2. Assign the elements to a new set named set5.\n",
    "set5 = set1.union(set2)\n",
    "set5"
   ]
  },
  {
   "cell_type": "code",
   "execution_count": 9,
   "id": "3c00a517",
   "metadata": {},
   "outputs": [
    {
     "name": "stdout",
     "output_type": "stream",
     "text": [
      "There are 34 elements present in set1 but not in set2\n",
      "There are 13 elements present in set2 but not in set1\n",
      "There are 93 elements shared between set1 and set2\n"
     ]
    }
   ],
   "source": [
    "#What is the relationship among the following values:\n",
    "\n",
    "#len(set1)\n",
    "#len(set2)\n",
    "#len(set3)\n",
    "#len(set4)\n",
    "#len(set5)\n",
    "\n",
    "print(\"There are\", len(set3), \"elements present in set1 but not in set2\")\n",
    "print(\"There are\", len(set4), \"elements present in set2 but not in set1\")\n",
    "print(\"There are\", len(set5), \"elements shared between set1 and set2\")\n"
   ]
  },
  {
   "cell_type": "code",
   "execution_count": 10,
   "id": "28b488a7",
   "metadata": {
    "scrolled": true
   },
   "outputs": [
    {
     "data": {
      "text/plain": [
       "{1,\n",
       " 2,\n",
       " 3,\n",
       " 5,\n",
       " 6,\n",
       " 7,\n",
       " 8,\n",
       " 9,\n",
       " 10,\n",
       " 11,\n",
       " 12,\n",
       " 13,\n",
       " 14,\n",
       " 15,\n",
       " 16,\n",
       " 17,\n",
       " 18,\n",
       " 19,\n",
       " 20,\n",
       " 21,\n",
       " 22,\n",
       " 23,\n",
       " 24,\n",
       " 25,\n",
       " 26,\n",
       " 27,\n",
       " 28,\n",
       " 29,\n",
       " 30,\n",
       " 31,\n",
       " 32,\n",
       " 34,\n",
       " 35,\n",
       " 36,\n",
       " 37,\n",
       " 38,\n",
       " 39,\n",
       " 40,\n",
       " 41,\n",
       " 42,\n",
       " 44,\n",
       " 45,\n",
       " 46,\n",
       " 47,\n",
       " 48,\n",
       " 49,\n",
       " 50,\n",
       " 51,\n",
       " 52,\n",
       " 53,\n",
       " 54,\n",
       " 55,\n",
       " 56,\n",
       " 57,\n",
       " 58,\n",
       " 59,\n",
       " 60,\n",
       " 62,\n",
       " 63,\n",
       " 64,\n",
       " 65,\n",
       " 66,\n",
       " 67,\n",
       " 68,\n",
       " 69,\n",
       " 70,\n",
       " 71,\n",
       " 72,\n",
       " 73,\n",
       " 75,\n",
       " 76,\n",
       " 77,\n",
       " 78,\n",
       " 79,\n",
       " 80,\n",
       " 81,\n",
       " 82,\n",
       " 83,\n",
       " 84,\n",
       " 85,\n",
       " 86,\n",
       " 87,\n",
       " 88,\n",
       " 89,\n",
       " 90,\n",
       " 91,\n",
       " 92,\n",
       " 93,\n",
       " 95,\n",
       " 96,\n",
       " 97,\n",
       " 98,\n",
       " 99}"
      ]
     },
     "execution_count": 10,
     "metadata": {},
     "output_type": "execute_result"
    }
   ],
   "source": [
    "# Create an empty set called set6.\n",
    "\n",
    "set6 = set()\n",
    "\n",
    "# Add set3 and set5 to set6 using the Python Set update method.\n",
    "\n",
    "set6.update(set3, set5)\n",
    "\n",
    "set6"
   ]
  },
  {
   "cell_type": "code",
   "execution_count": 11,
   "id": "f0c1da95",
   "metadata": {},
   "outputs": [
    {
     "name": "stdout",
     "output_type": "stream",
     "text": [
      "set1 is not equal to set6\n"
     ]
    }
   ],
   "source": [
    "# Check if set1 and set6 are equal.\n",
    "\n",
    "if set1 == set6:\n",
    "    print(\"set1 equal to set6\")\n",
    "else:\n",
    "    print(\"set1 is not equal to set6\")"
   ]
  },
  {
   "cell_type": "code",
   "execution_count": 12,
   "id": "722e9c35",
   "metadata": {},
   "outputs": [
    {
     "name": "stdout",
     "output_type": "stream",
     "text": [
      "set1 doesn't contain set2\n",
      "set1 contains set3\n"
     ]
    }
   ],
   "source": [
    "# Check if set1 contains set2 using the Python Set issubset method. Then check if set1 contains set3.*\n",
    "\n",
    "if set2.issubset(set1):\n",
    "    print(\"set1 contains set2\")\n",
    "else:\n",
    "    print(\"set1 doesn't contain set2\")\n",
    "    \n",
    "if set3.issubset(set1):\n",
    "    print(\"set1 contains set3\")\n",
    "else:\n",
    "    print(\"set1 doesn't contain set3\")"
   ]
  },
  {
   "cell_type": "code",
   "execution_count": 13,
   "id": "d1c7c50e",
   "metadata": {
    "scrolled": true
   },
   "outputs": [
    {
     "name": "stdout",
     "output_type": "stream",
     "text": [
      "{1, 2, 3, 5, 6, 7, 8, 9, 10, 11, 12, 13, 14, 15, 16, 17, 18, 19, 20, 21, 22, 23, 24, 25, 26, 27, 28, 29, 30, 31, 32, 34, 35, 36, 37, 38, 39, 40, 41, 42, 44, 45, 46, 47, 48, 49, 50, 51, 52, 53, 54, 55, 56, 57, 58, 59, 60, 62, 63, 64, 65, 66, 67, 68, 69, 70, 71, 72, 73, 75, 76, 77, 78, 79, 80, 81, 82, 83, 84, 85, 86, 87, 88, 89, 90, 91, 92, 93, 95, 96, 97, 98, 99}\n",
      "{1, 2, 3, 5, 6, 7, 8, 9, 10, 11, 12, 13, 14, 15, 16, 17, 18, 19, 20, 21, 22, 23, 24, 25, 26, 27, 28, 29, 30, 31, 32, 34, 35, 36, 37, 38, 39, 40, 41, 42, 44, 45, 46, 47, 48, 49, 50, 51, 52, 53, 54, 55, 56, 57, 58, 59, 60, 62, 63, 64, 65, 66, 67, 68, 69, 70, 71, 72, 73, 75, 76, 77, 78, 79, 80, 81, 82, 83, 84, 85, 86, 87, 88, 89, 90, 91, 92, 93, 95, 96, 97, 98, 99}\n",
      "The aggregated values are equal\n"
     ]
    }
   ],
   "source": [
    "# Using the Python Set union method, aggregate set3, set4, and set5. Then aggregate set1 and set2.\n",
    "\n",
    "ag1 = set3.union(set4, set5)\n",
    "ag2 = set1.union(set2)\n",
    "\n",
    "print(ag1)\n",
    "print(ag2)\n",
    "\n",
    "# Check if the aggregated values are equal.\n",
    "\n",
    "if ag1 == ag2:\n",
    "    print(\"The aggregated values are equal\")\n",
    "else:\n",
    "    print(\"The aggregated values are not equal\")"
   ]
  },
  {
   "cell_type": "code",
   "execution_count": 15,
   "id": "906ee8dd",
   "metadata": {},
   "outputs": [
    {
     "name": "stdout",
     "output_type": "stream",
     "text": [
      "The first element is removed is: 2\n",
      "set1 = {3, 5, 6, 7, 8, 9, 10, 11, 12, 14, 15, 16, 17, 18, 19, 20, 22, 23, 24, 25, 26, 28, 30, 32, 34, 35, 37, 38, 40, 41, 42, 44, 45, 46, 47, 48, 49, 50, 51, 53, 54, 55, 56, 58, 59, 60, 62, 63, 64, 65, 66, 67, 68, 69, 70, 71, 73, 75, 76, 77, 78, 80, 81, 82, 83, 85, 86, 88, 89, 90, 91, 92, 93, 95, 96, 97, 98, 99}\n"
     ]
    }
   ],
   "source": [
    "# Using the pop method, remove the first element from set1.\n",
    "\n",
    "first_element = set1.pop()\n",
    "print(\"The first element is removed is:\", first_element)\n",
    "print(\"set1 =\", set1)"
   ]
  },
  {
   "cell_type": "code",
   "execution_count": 18,
   "id": "367ebb52",
   "metadata": {},
   "outputs": [
    {
     "name": "stdout",
     "output_type": "stream",
     "text": [
      "The first element is removed is: 5\n",
      "set1 = {6, 7, 8, 9, 10, 11, 12, 14, 15, 16, 17, 18, 19, 20, 22, 23, 24, 25, 26, 28, 30, 32, 34, 35, 37, 38, 40, 41, 42, 44, 45, 46, 47, 48, 49, 50, 51, 53, 54, 55, 56, 58, 59, 60, 62, 63, 64, 65, 66, 67, 68, 69, 70, 71, 73, 75, 76, 77, 78, 80, 81, 82, 83, 85, 86, 88, 89, 90, 91, 92, 93, 95, 96, 97, 98, 99}\n"
     ]
    }
   ],
   "source": [
    "# Using the pop method, remove the first element from set1.\n",
    "\n",
    "first_element = set1.pop()\n",
    "print(\"The first element is removed is:\", first_element)\n",
    "print(\"set1 =\", set1)\n",
    "\n",
    "# it works but each time I run the input, the output will be the next number, \n",
    "# as i ran the input 2 times, the element is removed is 5 instead of 3."
   ]
  },
  {
   "cell_type": "code",
   "execution_count": 22,
   "id": "6c2d7594",
   "metadata": {},
   "outputs": [
    {
     "name": "stdout",
     "output_type": "stream",
     "text": [
      "{6, 7, 8, 10, 12, 14, 15, 16, 17, 18, 20, 22, 23, 24, 25, 26, 28, 30, 32, 34, 35, 37, 38, 40, 42, 44, 45, 46, 47, 48, 50, 53, 54, 55, 56, 58, 60, 62, 63, 64, 65, 66, 67, 68, 70, 73, 75, 76, 77, 78, 80, 82, 83, 85, 86, 88, 90, 92, 93, 95, 96, 97, 98}\n"
     ]
    }
   ],
   "source": [
    "# Remove every element in the following list from set1 if they are present in the set. \n",
    "# Print the remaining elements.\n",
    "\n",
    "list_to_remove = [1, 9, 11, 19, 21, 29, 31, 39, 41, 49, 51, 59, 61, 69, 71, 79, 81, 89, 91, 99]\n",
    "\n",
    "for i in list_to_remove:\n",
    "    if i in set1:\n",
    "        set1.remove(i)\n",
    "print(set1)"
   ]
  },
  {
   "cell_type": "code",
   "execution_count": null,
   "id": "32d57fdb",
   "metadata": {},
   "outputs": [],
   "source": []
  }
 ],
 "metadata": {
  "kernelspec": {
   "display_name": "Python 3 (ipykernel)",
   "language": "python",
   "name": "python3"
  },
  "language_info": {
   "codemirror_mode": {
    "name": "ipython",
    "version": 3
   },
   "file_extension": ".py",
   "mimetype": "text/x-python",
   "name": "python",
   "nbconvert_exporter": "python",
   "pygments_lexer": "ipython3",
   "version": "3.9.13"
  }
 },
 "nbformat": 4,
 "nbformat_minor": 5
}

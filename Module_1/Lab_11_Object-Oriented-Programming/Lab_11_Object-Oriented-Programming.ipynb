{
 "cells": [
  {
   "cell_type": "code",
   "execution_count": 2,
   "id": "004df7d3",
   "metadata": {},
   "outputs": [
    {
     "name": "stdout",
     "output_type": "stream",
     "text": [
      "[4, 5, 6]\n"
     ]
    }
   ],
   "source": [
    "# Define a method/function that removes from a given array of integers all the values contained in a second array.\n",
    "\n",
    "class List():\n",
    "    def remove_dup(array1, array2):\n",
    "        return [i for i in array1 if i not in array2]\n",
    "print(List.remove_dup([1,2,3,4,5,6],[1,2,3]))"
   ]
  },
  {
   "cell_type": "code",
   "execution_count": 9,
   "id": "7a999371",
   "metadata": {},
   "outputs": [
    {
     "name": "stdout",
     "output_type": "stream",
     "text": [
      "[(5, 2), (6, 2)]\n"
     ]
    }
   ],
   "source": [
    "#We need a method in the List Class that may count specific digits from a given list of integers. \n",
    "#This marked digits will be given in a second list. \n",
    "#The method .count_spec_digits()/.countSpecDigits() will accept two arguments, \n",
    "#a list of an uncertain amount of integers integers_lists/integersLists (and of an uncertain amount of digits, too) \n",
    "#and a second list, digits_list/digitsList that has the specific digits to count which length cannot be be longer\n",
    "#than 10 (It's obvious, we've got ten digits). The method will output a list of tuples, \n",
    "#each tuple having two elements, the first one will be a digit to count, and second one,\n",
    "#its corresponding total frequency in all the integers of the first list.\n",
    "#This list of tuples should be ordered with the same order that the digits have in digitsList\n",
    "\n",
    "class List():\n",
    "    def count_spec_digits(integers_list, digits_list):\n",
    "        digit_freq = {digit: 0 for digit in digits_list}\n",
    "        for i in integers_list:\n",
    "            str_integer = str(i)\n",
    "            for j in str_integer:\n",
    "                if i in digits_list:\n",
    "                    digit_freq[i] += 1\n",
    "        freq_tuples = [(i, digit_freq[i]) for i in digits_list]\n",
    "        sorted_tuples = sorted(freq_tuples, key=lambda x: digits_list.index(x[0]))\n",
    "        return sorted_tuples\n",
    "print(List.count_spec_digits([4,5,6,6,7,5,3], [5,6]))\n"
   ]
  },
  {
   "cell_type": "code",
   "execution_count": 6,
   "id": "884648ce",
   "metadata": {},
   "outputs": [
    {
     "name": "stdout",
     "output_type": "stream",
     "text": [
      "[('a', 2), ('n', 2), ('d', 2), ('o', 2), ('r', 2)]\n"
     ]
    }
   ],
   "source": [
    "#Count the number of occurrences of each character and return it as a (list of tuples) in order of appearance. \n",
    "#For empty output return (an empty list).\n",
    "\n",
    "#ordered_count(\"abracadabra\") == [('a', 5), ('b', 2), ('r', 2), ('c', 1), ('d', 1)]\n",
    "\n",
    "class List():\n",
    "    def count_crt(string):\n",
    "        result = []\n",
    "        used = []\n",
    "        for i in string:\n",
    "            if i not in used:\n",
    "                result.append((i, string.count(i)))\n",
    "                used.append(i)\n",
    "        return result\n",
    "print(List.count_crt(\"andandoror\"))"
   ]
  }
 ],
 "metadata": {
  "kernelspec": {
   "display_name": "Python 3 (ipykernel)",
   "language": "python",
   "name": "python3"
  },
  "language_info": {
   "codemirror_mode": {
    "name": "ipython",
    "version": 3
   },
   "file_extension": ".py",
   "mimetype": "text/x-python",
   "name": "python",
   "nbconvert_exporter": "python",
   "pygments_lexer": "ipython3",
   "version": "3.9.13"
  }
 },
 "nbformat": 4,
 "nbformat_minor": 5
}

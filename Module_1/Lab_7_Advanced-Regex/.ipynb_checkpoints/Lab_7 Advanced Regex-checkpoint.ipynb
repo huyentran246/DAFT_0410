{
 "cells": [
  {
   "cell_type": "code",
   "execution_count": 2,
   "id": "d356f26c",
   "metadata": {},
   "outputs": [
    {
     "data": {
      "text/plain": [
       "'THE APPARITION OF THESE FACES IN THE CROWD;\\nPETALS ON A WET, BLACK BOUGH.'"
      ]
     },
     "execution_count": 2,
     "metadata": {},
     "output_type": "execute_result"
    }
   ],
   "source": [
    "#Challenge 1- Regular Expressions\n",
    "#return all characters that are upper case from the string specified below.\n",
    "import re\n",
    "\n",
    "poem = \"\"\"The apparition of these faces in the crowd;\n",
    "Petals on a wet, black bough.\"\"\"\n",
    "\n",
    "poem.upper()"
   ]
  },
  {
   "cell_type": "code",
   "execution_count": 3,
   "id": "6235c196",
   "metadata": {},
   "outputs": [
    {
     "data": {
      "text/plain": [
       "['123abc', 'abc123', 'JohnSmith1', 'ABBY4']"
      ]
     },
     "execution_count": 3,
     "metadata": {},
     "output_type": "execute_result"
    }
   ],
   "source": [
    "#filter the list provided and return all elements of the list containing a number. \n",
    "#To filter the list, use the re.search function. Check if the function does not return None. \n",
    "\n",
    "data = ['123abc', 'abc123', 'JohnSmith1', 'ABBY4', 'JANE']\n",
    "\n",
    "x = [i for i in data if re.search(r'\\d', i)]\n",
    "x\n"
   ]
  },
  {
   "cell_type": "code",
   "execution_count": 10,
   "id": "c8650832",
   "metadata": {},
   "outputs": [
    {
     "name": "stdout",
     "output_type": "stream",
     "text": [
      "['123abc', 'abc123', 'JohnSmith1', 'ABBY4']\n"
     ]
    }
   ],
   "source": [
    "#Challenge 2 - Regular Expressions II\n",
    "#In the cell below, filter the list provided to keep only strings containing at least one digit \n",
    "#and at least one lower case letter. \n",
    "#As in the previous question, use the re.search function and check that the result is not None.\n",
    "\n",
    "data = ['123abc', 'abc123', 'JohnSmith1', 'ABBY4', 'JANE']\n",
    "\n",
    "y = []\n",
    "\n",
    "for j in data:\n",
    "    if re.search(r'\\d', j) and (r'[a-z]+', j):\n",
    "        y.append(j)\n",
    "print(y)\n"
   ]
  },
  {
   "cell_type": "code",
   "execution_count": 11,
   "id": "cb5f14d4",
   "metadata": {
    "scrolled": true
   },
   "outputs": [
    {
     "data": {
      "text/plain": [
       "['i',\n",
       " 'i',\n",
       " 'o',\n",
       " 'i',\n",
       " 'o',\n",
       " 'e',\n",
       " 'a',\n",
       " 'e',\n",
       " 'e',\n",
       " 'e',\n",
       " 'i',\n",
       " 'a',\n",
       " 'o',\n",
       " 'o',\n",
       " 'u',\n",
       " 'e',\n",
       " 'o',\n",
       " 'o',\n",
       " 'e',\n",
       " 'i',\n",
       " 'i']"
      ]
     },
     "execution_count": 11,
     "metadata": {},
     "output_type": "execute_result"
    }
   ],
   "source": [
    "#Challenge 3 - Advanced Regular Expressions\n",
    "import re\n",
    "    \n",
    "#1. Use a regular expression to find and extract all vowels in the following text.\n",
    "text = \"This is going to be a sentence with a good number of vowels in it.\"\n",
    "\n",
    "vowels = re.findall('[aeiou]', text)\n",
    "\n",
    "vowels\n"
   ]
  },
  {
   "cell_type": "code",
   "execution_count": 12,
   "id": "a08a82fa",
   "metadata": {},
   "outputs": [
    {
     "name": "stdout",
     "output_type": "stream",
     "text": [
      "['puppy', 'puppies', 'puppy']\n"
     ]
    }
   ],
   "source": [
    "# 2. Use a regular expression to find and extract all occurrences and tenses (singular and plural)\n",
    "#of the word \"puppy\" in the text below.\n",
    "\n",
    "text = \"The puppy saw all the rest of the puppies playing and wanted to join them. I saw this and wanted a puppy of my own!\"\n",
    "print(re.findall('pupp[yies]*', text))"
   ]
  },
  {
   "cell_type": "code",
   "execution_count": 13,
   "id": "d2a218ae",
   "metadata": {},
   "outputs": [
    {
     "name": "stdout",
     "output_type": "stream",
     "text": [
      "['ran', 'run']\n"
     ]
    }
   ],
   "source": [
    "# 3. Use a regular expression to find and extract all tenses (present and past)\n",
    "#of the word \"run\" in the text below.\n",
    "\n",
    "text = \"I ran the relay race the only way I knew how to run it.\"\n",
    "print(re.findall('r[ua]n', text))"
   ]
  },
  {
   "cell_type": "code",
   "execution_count": 14,
   "id": "f8a85643",
   "metadata": {},
   "outputs": [
    {
     "name": "stdout",
     "output_type": "stream",
     "text": [
      "['ran', 'relay', 'race', 'run']\n"
     ]
    }
   ],
   "source": [
    "# 4. Use a regular expression to find and extract all words that begin with the letter \"r\" from the previous text.\n",
    "\n",
    "print(re.findall(r'\\br\\w+', text))\n",
    "\n",
    "# \\b matches a word boundary.\n",
    "# r matches the letter \"r\".\n",
    "# \\w+ matches one or more word characters (letters, digits, or underscores).\n"
   ]
  },
  {
   "cell_type": "code",
   "execution_count": 15,
   "id": "c8f12cdb",
   "metadata": {},
   "outputs": [
    {
     "name": "stdout",
     "output_type": "stream",
     "text": [
      "This is a sentence with special characters in it.\n"
     ]
    }
   ],
   "source": [
    "# 5. Use a regular expression to find and substitute the letter \"i\" for the exclamation marks in the text below.\n",
    "\n",
    "text = \"Th!s !s a sentence w!th spec!al characters !n !t.\"\n",
    "print(re.sub('!', 'i', text))"
   ]
  },
  {
   "cell_type": "code",
   "execution_count": 16,
   "id": "16f35a6c",
   "metadata": {},
   "outputs": [
    {
     "name": "stdout",
     "output_type": "stream",
     "text": [
      "['This', 'sentence', 'words', 'varying', 'lengths']\n"
     ]
    }
   ],
   "source": [
    "# 6. Use a regular expression to find and extract words longer than 4 characters in the text below.\n",
    "\n",
    "text = \"This sentence has words of varying lengths.\"\n",
    "print(re.findall('\\w{4,}',text))"
   ]
  },
  {
   "cell_type": "code",
   "execution_count": 31,
   "id": "46b5caf2",
   "metadata": {},
   "outputs": [
    {
     "name": "stdout",
     "output_type": "stream",
     "text": [
      "['bet', 'beat', 'bot', 'bat', 'but', 'bit']\n"
     ]
    }
   ],
   "source": [
    "# 7. Use a regular expression to find and extract all occurrences of the letter \"b\", some letter(s), \n",
    "#and then the letter \"t\" in the sentence below.\n",
    "\n",
    "text = \"I bet the robot couldn't beat the other bot with a bat, but instead it bit me.\"\n",
    "\n",
    "print(re.findall(r'\\bb\\w*t\\b', text))\n",
    "\n",
    "# \\b: Matches word boundary.\n",
    "# b: matches the letter 'b'. [bB]: Matches either 'b' or 'B'.\n",
    "# \\w*: Matches zero or more word characters.\n",
    "# t: Matches the letter 't' at the end of the word.\n"
   ]
  },
  {
   "cell_type": "code",
   "execution_count": 42,
   "id": "d0ea5745",
   "metadata": {},
   "outputs": [
    {
     "name": "stdout",
     "output_type": "stream",
     "text": [
      "['pea', 'eople', 'rea']\n"
     ]
    }
   ],
   "source": [
    "# 8. Use a regular expression to find and extract all words that contain either \"ea\" or \"eo\" in them.\n",
    "\n",
    "text = \"During many of the peaks and troughs of history, the people living it didn't fully realize what was unfolding. But we all know we\"\n",
    "\n",
    "print(re.findall(r'\\w*ea|eo\\w*', text))"
   ]
  },
  {
   "cell_type": "code",
   "execution_count": 43,
   "id": "89949941",
   "metadata": {},
   "outputs": [
    {
     "name": "stdout",
     "output_type": "stream",
     "text": [
      "['Teddy', 'Roosevelt', 'Abraham', 'Lincoln']\n"
     ]
    }
   ],
   "source": [
    "# 9. Use a regular expression to find and extract all the capitalized words in the text below individually.\n",
    "\n",
    "text = \"Teddy Roosevelt and Abraham Lincoln walk into a bar.\"\n",
    "print(re.findall(r'\\b[A-Z]\\w*\\b', text))"
   ]
  },
  {
   "cell_type": "code",
   "execution_count": 75,
   "id": "9173efae",
   "metadata": {},
   "outputs": [
    {
     "name": "stdout",
     "output_type": "stream",
     "text": [
      "['Teddy Roosevelt', 'Abraham Lincoln']\n"
     ]
    }
   ],
   "source": [
    "# 10. Use a regular expression to find and extract all the sets of consecutive capitalized words in the text above.\n",
    "\n",
    "print(re.findall('([A-Z][a-z]+ ?[A-Z][a-z]+)', text))"
   ]
  },
  {
   "cell_type": "code",
   "execution_count": 44,
   "id": "4c80ec65",
   "metadata": {},
   "outputs": [
    {
     "name": "stdout",
     "output_type": "stream",
     "text": [
      "['I will bet you $50 I can get the bartender to give me a free drink.', 'I am in!']\n"
     ]
    }
   ],
   "source": [
    "# 11. Use a regular expression to find and extract all the quotes from the text below.\n",
    "\n",
    "text = 'Roosevelt says to Lincoln, \"I will bet you $50 I can get the bartender to give me a free drink.\" Lincoln says, \"I am in!\"'\n",
    "\n",
    "print(re.findall('\"([^\"]*)\"', text))"
   ]
  },
  {
   "cell_type": "code",
   "execution_count": 78,
   "id": "96b6e956",
   "metadata": {},
   "outputs": [
    {
     "name": "stdout",
     "output_type": "stream",
     "text": [
      "['30', '30', '14', '16', '10']\n"
     ]
    }
   ],
   "source": [
    "# 12. Use a regular expression to find and extract all the numbers from the text below.\n",
    "\n",
    "text = \"There were 30 students in the class. Of the 30 students, 14 were male and 16 were female. Only 10 students got A's on the exam.\"\n",
    "\n",
    "print(re.findall('\\d+', text))"
   ]
  },
  {
   "cell_type": "code",
   "execution_count": 45,
   "id": "374c76ab",
   "metadata": {},
   "outputs": [
    {
     "name": "stdout",
     "output_type": "stream",
     "text": [
      "['876-93-2289', '098-32-5295']\n"
     ]
    }
   ],
   "source": [
    "# 13. Use a regular expression to find and extract all the social security numbers from the text below.\n",
    "\n",
    "text = \"\"\"\n",
    "Henry's social security number is 876-93-2289 and his phone number is (847)789-0984.\n",
    "Darlene's social security number is 098-32-5295 and her phone number is (987)222-0901.\n",
    "\"\"\"\n",
    "\n",
    "print(re.findall('\\d+-\\d+-\\d+', text))"
   ]
  },
  {
   "cell_type": "code",
   "execution_count": 49,
   "id": "04385e0f",
   "metadata": {},
   "outputs": [
    {
     "name": "stdout",
     "output_type": "stream",
     "text": [
      "[('847', '789', '0984'), ('987', '222', '0901')]\n"
     ]
    }
   ],
   "source": [
    "# 14. Use a regular expression to find and extract all the phone numbers from the text below.\n",
    "\n",
    "print(re.findall(r'\\(?(\\d{3})\\)?[-.\\s]?(\\d{3})[-.\\s]?(\\d{4})', text))"
   ]
  },
  {
   "cell_type": "code",
   "execution_count": 61,
   "id": "8424a506",
   "metadata": {},
   "outputs": [
    {
     "ename": "SyntaxError",
     "evalue": "unexpected character after line continuation character (3314533408.py, line 3)",
     "output_type": "error",
     "traceback": [
      "\u001b[0;36m  File \u001b[0;32m\"/var/folders/hz/wdxy33c549592d70h0kdzm8c0000gn/T/ipykernel_8022/3314533408.py\"\u001b[0;36m, line \u001b[0;32m3\u001b[0m\n\u001b[0;31m    combined_pattern = re.compile('\\d+-\\d+-\\d+''|'\\(?(\\d{3})\\)?[-.\\s]?(\\d{3})[-.\\s]?(\\d{4})')\u001b[0m\n\u001b[0m                                                   ^\u001b[0m\n\u001b[0;31mSyntaxError\u001b[0m\u001b[0;31m:\u001b[0m unexpected character after line continuation character\n"
     ]
    }
   ],
   "source": [
    "# 15. Use a regular expression to find and extract all the formatted numbers (both social security and phone) from the text below.\n",
    "\n",
    "combined_pattern = re.compile('\\d+-\\d+-\\d+''|'\\(?(\\d{3})\\)?[-.\\s]?(\\d{3})[-.\\s]?(\\d{4})')\n",
    "print(re.findall(combined_pattern, text))"
   ]
  },
  {
   "cell_type": "code",
   "execution_count": null,
   "id": "6539d5bb",
   "metadata": {},
   "outputs": [],
   "source": []
  }
 ],
 "metadata": {
  "kernelspec": {
   "display_name": "Python 3 (ipykernel)",
   "language": "python",
   "name": "python3"
  },
  "language_info": {
   "codemirror_mode": {
    "name": "ipython",
    "version": 3
   },
   "file_extension": ".py",
   "mimetype": "text/x-python",
   "name": "python",
   "nbconvert_exporter": "python",
   "pygments_lexer": "ipython3",
   "version": "3.10.9"
  }
 },
 "nbformat": 4,
 "nbformat_minor": 5
}
